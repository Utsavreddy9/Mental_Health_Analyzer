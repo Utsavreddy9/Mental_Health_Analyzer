## The proccess is the following:

Library and data loading
Data cleaning
Encoding data
Covariance Matrix. Variability comparison between categories of variables
Some charts to see data relationship
Scaling and fitting
Tuning
Evaluating models
Logistic Eegression
KNeighbors Classifier
Decision Tree Classifier
Random Forests
Bagging
Boosting
Stacking
Predicting with Neural Network
Success method plot
Creating predictions on test set
Submission
Conclusions
